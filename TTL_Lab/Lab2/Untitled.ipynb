{
 "cells": [
  {
   "cell_type": "code",
   "execution_count": 1,
   "id": "57920453-698b-43d1-b3cd-17f651751754",
   "metadata": {},
   "outputs": [
    {
     "name": "stdout",
     "output_type": "stream",
     "text": [
      "<class 'int'> 3\n",
      "<class 'str'> hello\n",
      "<class 'float'> 2.3\n",
      "<class 'complex'> 2j\n"
     ]
    }
   ],
   "source": [
    "n=3\n",
    "a=\"hello\"\n",
    "b=2.3\n",
    "m=2j\n",
    "\n",
    "print(type(n),n)\n",
    "print(type(a),a)\n",
    "print(type(b),b)\n",
    "print(type(m),m)"
   ]
  },
  {
   "cell_type": "code",
   "execution_count": null,
   "id": "e7c9d0e9-ff20-45fc-9581-6d304023f93b",
   "metadata": {},
   "outputs": [],
   "source": []
  }
 ],
 "metadata": {
  "kernelspec": {
   "display_name": "Python 3 (ipykernel)",
   "language": "python",
   "name": "python3"
  },
  "language_info": {
   "codemirror_mode": {
    "name": "ipython",
    "version": 3
   },
   "file_extension": ".py",
   "mimetype": "text/x-python",
   "name": "python",
   "nbconvert_exporter": "python",
   "pygments_lexer": "ipython3",
   "version": "3.12.1"
  }
 },
 "nbformat": 4,
 "nbformat_minor": 5
}
