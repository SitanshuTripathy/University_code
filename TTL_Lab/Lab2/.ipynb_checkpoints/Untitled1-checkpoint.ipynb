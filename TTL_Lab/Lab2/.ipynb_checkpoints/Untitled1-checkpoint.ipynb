{
 "cells": [
  {
   "cell_type": "code",
   "execution_count": 2,
   "id": "0a3904af-3f4e-4028-bd36-37374df6a385",
   "metadata": {},
   "outputs": [
    {
     "name": "stdin",
     "output_type": "stream",
     "text": [
      "input x= 0\n",
      "input y= 1\n"
     ]
    },
    {
     "name": "stdout",
     "output_type": "stream",
     "text": [
      "AND Gate output: 1\n",
      "OR Gate output: 0\n",
      "NOT Gate output: False\n"
     ]
    }
   ],
   "source": [
    "def AND_gate(x, y):\n",
    "    return x and y\n",
    "\n",
    "def OR_gate(x, y):\n",
    "    return x or y\n",
    "\n",
    "def NOT_gate(x):\n",
    "    return not x\n",
    "\n",
    "x=input(\"input x=\")\n",
    "y=input(\"input y=\")\n",
    "\n",
    "\n",
    "print(\"AND Gate output:\", AND_gate(x, y))\n",
    "print(\"OR Gate output:\", OR_gate(x, y))\n",
    "print(\"NOT Gate output:\", NOT_gate(x))\n"
   ]
  },
  {
   "cell_type": "code",
   "execution_count": 10,
   "id": "ce13da72-90df-4e78-8269-5ebccce2b92d",
   "metadata": {},
   "outputs": [
    {
     "name": "stdin",
     "output_type": "stream",
     "text": [
      "input x= 23\n"
     ]
    },
    {
     "name": "stdout",
     "output_type": "stream",
     "text": [
      "first digit = 2 , last digit=3\n"
     ]
    }
   ],
   "source": [
    "x=int(input(\"input x=\"))\n",
    "\n",
    "a=x\n",
    "while a>=10:\n",
    "    a=a//10\n",
    "last=x%10\n",
    "\n",
    "txt=(\"first digit = {} , last digit={}\")\n",
    "print(txt.format(a,last))\n"
   ]
  },
  {
   "cell_type": "code",
   "execution_count": 12,
   "id": "66999b6e-5c49-42cf-b4f2-a2a95343910d",
   "metadata": {},
   "outputs": [
    {
     "name": "stdout",
     "output_type": "stream",
     "text": [
      "sitanshutripathy\n",
      "tripathysitanshu\n"
     ]
    }
   ],
   "source": [
    "x=\"sitanshu\"\n",
    "y=\"tripathy\"\n",
    "\n",
    "print(x+y)\n",
    "print(y+x)"
   ]
  },
  {
   "cell_type": "code",
   "execution_count": 17,
   "id": "7eda0755-29fd-4733-8e5d-a1f6bf6bf3c7",
   "metadata": {},
   "outputs": [
    {
     "name": "stdin",
     "output_type": "stream",
     "text": [
      "input x= 2\n",
      "input y= 3\n"
     ]
    },
    {
     "name": "stdout",
     "output_type": "stream",
     "text": [
      "mem of x= 140703277131784\n",
      "mem of y= 140703277131832\n",
      "y location is greater\n"
     ]
    }
   ],
   "source": [
    "x=input(\"input x=\")\n",
    "y=input(\"input y=\")\n",
    "m=id(x)\n",
    "n=id(y)\n",
    "print(f\"mem of x= {m}\")\n",
    "print(f\"mem of y= {n}\")\n",
    "\n",
    "if m > n:\n",
    "    print(\"x loction is greater\")\n",
    "else:\n",
    "    print(\"y location is greater\")"
   ]
  },
  {
   "cell_type": "code",
   "execution_count": 18,
   "id": "22d40a6b-4100-4042-a05a-3d0577b67826",
   "metadata": {},
   "outputs": [
    {
     "name": "stdout",
     "output_type": "stream",
     "text": [
      "2.0\n",
      "1.9054002842254856\n"
     ]
    }
   ],
   "source": [
    "x=30\n",
    "y=15\n",
    "#integer division\n",
    "print(x/y)\n",
    "\n",
    "a=40.223\n",
    "b=21.11\n",
    "# float division\n",
    "print(a/b)"
   ]
  },
  {
   "cell_type": "code",
   "execution_count": 20,
   "id": "ebce0dcd-6909-4aa7-baa7-4fbbda902b86",
   "metadata": {},
   "outputs": [
    {
     "name": "stdout",
     "output_type": "stream",
     "text": [
      "3 4\n"
     ]
    }
   ],
   "source": [
    "x=4\n",
    "y=3\n",
    "x,y=y,x\n",
    "print(x , y)\n"
   ]
  },
  {
   "cell_type": "code",
   "execution_count": 23,
   "id": "f241941e-4d59-493d-98e6-92e9b287963a",
   "metadata": {},
   "outputs": [
    {
     "name": "stdout",
     "output_type": "stream",
     "text": [
      "Distance: 1.4142135623730951\n"
     ]
    }
   ],
   "source": [
    "import math\n",
    "\n",
    "def calculate_distance(x1, y1, x2, y2):\n",
    "    return math.sqrt((x2 - x1)**2 + (y2 - y1)**2)\n",
    "\n",
    "x1, y1 = 3, 7\n",
    "x2, y2 = 4, 6\n",
    "\n",
    "print(\"Distance:\", calculate_distance(x1, y1, x2, y2))"
   ]
  },
  {
   "cell_type": "code",
   "execution_count": 22,
   "id": "b048e54e-c3d4-41a5-bee4-0db3ee062f5a",
   "metadata": {},
   "outputs": [
    {
     "name": "stdout",
     "output_type": "stream",
     "text": [
      "<class 'int'> 3\n",
      "<class 'str'> hello\n",
      "<class 'float'> 2.3\n",
      "<class 'complex'> 2j\n"
     ]
    }
   ],
   "source": [
    "n=3\n",
    "a=\"hello\"\n",
    "b=2.3\n",
    "m=2j\n",
    "\n",
    "print(type(n),n)\n",
    "print(type(a),a)\n",
    "print(type(b),b)\n",
    "print(type(m),m)"
   ]
  },
  {
   "cell_type": "code",
   "execution_count": null,
   "id": "4df62e6a-c818-406f-ae65-ca9360f242e4",
   "metadata": {},
   "outputs": [],
   "source": []
  }
 ],
 "metadata": {
  "kernelspec": {
   "display_name": "Python 3 (ipykernel)",
   "language": "python",
   "name": "python3"
  },
  "language_info": {
   "codemirror_mode": {
    "name": "ipython",
    "version": 3
   },
   "file_extension": ".py",
   "mimetype": "text/x-python",
   "name": "python",
   "nbconvert_exporter": "python",
   "pygments_lexer": "ipython3",
   "version": "3.12.1"
  }
 },
 "nbformat": 4,
 "nbformat_minor": 5
}
